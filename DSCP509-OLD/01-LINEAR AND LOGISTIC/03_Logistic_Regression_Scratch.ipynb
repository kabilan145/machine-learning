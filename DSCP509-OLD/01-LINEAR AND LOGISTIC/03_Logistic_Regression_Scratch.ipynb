{
 "cells": [
  {
   "cell_type": "code",
   "execution_count": 1,
   "id": "ca0d46ce-1c29-4fe2-9046-66ee622d98d8",
   "metadata": {},
   "outputs": [],
   "source": [
    "import numpy as np\n",
    "import pandas as pd\n",
    "import matplotlib.pyplot as plt\n",
    "import seaborn as sns"
   ]
  },
  {
   "cell_type": "markdown",
   "id": "7feacff5-0a79-400f-8ac2-58211b4cc91c",
   "metadata": {},
   "source": [
    "# Logistic Model From Scratch"
   ]
  },
  {
   "cell_type": "code",
   "execution_count": 2,
   "id": "2594d294-3b87-4717-9e77-d50063cac2e6",
   "metadata": {},
   "outputs": [
    {
     "data": {
      "text/html": [
       "<div>\n",
       "<style scoped>\n",
       "    .dataframe tbody tr th:only-of-type {\n",
       "        vertical-align: middle;\n",
       "    }\n",
       "\n",
       "    .dataframe tbody tr th {\n",
       "        vertical-align: top;\n",
       "    }\n",
       "\n",
       "    .dataframe thead th {\n",
       "        text-align: right;\n",
       "    }\n",
       "</style>\n",
       "<table border=\"1\" class=\"dataframe\">\n",
       "  <thead>\n",
       "    <tr style=\"text-align: right;\">\n",
       "      <th></th>\n",
       "      <th>Pregnancies</th>\n",
       "      <th>Glucose</th>\n",
       "      <th>BloodPressure</th>\n",
       "      <th>SkinThickness</th>\n",
       "      <th>Insulin</th>\n",
       "      <th>BMI</th>\n",
       "      <th>DiabetesPedigreeFunction</th>\n",
       "      <th>Age</th>\n",
       "      <th>Outcome</th>\n",
       "    </tr>\n",
       "  </thead>\n",
       "  <tbody>\n",
       "    <tr>\n",
       "      <th>0</th>\n",
       "      <td>6</td>\n",
       "      <td>148</td>\n",
       "      <td>72</td>\n",
       "      <td>35</td>\n",
       "      <td>0</td>\n",
       "      <td>33.6</td>\n",
       "      <td>0.627</td>\n",
       "      <td>50</td>\n",
       "      <td>1</td>\n",
       "    </tr>\n",
       "    <tr>\n",
       "      <th>1</th>\n",
       "      <td>1</td>\n",
       "      <td>85</td>\n",
       "      <td>66</td>\n",
       "      <td>29</td>\n",
       "      <td>0</td>\n",
       "      <td>26.6</td>\n",
       "      <td>0.351</td>\n",
       "      <td>31</td>\n",
       "      <td>0</td>\n",
       "    </tr>\n",
       "    <tr>\n",
       "      <th>2</th>\n",
       "      <td>8</td>\n",
       "      <td>183</td>\n",
       "      <td>64</td>\n",
       "      <td>0</td>\n",
       "      <td>0</td>\n",
       "      <td>23.3</td>\n",
       "      <td>0.672</td>\n",
       "      <td>32</td>\n",
       "      <td>1</td>\n",
       "    </tr>\n",
       "    <tr>\n",
       "      <th>3</th>\n",
       "      <td>1</td>\n",
       "      <td>89</td>\n",
       "      <td>66</td>\n",
       "      <td>23</td>\n",
       "      <td>94</td>\n",
       "      <td>28.1</td>\n",
       "      <td>0.167</td>\n",
       "      <td>21</td>\n",
       "      <td>0</td>\n",
       "    </tr>\n",
       "    <tr>\n",
       "      <th>4</th>\n",
       "      <td>0</td>\n",
       "      <td>137</td>\n",
       "      <td>40</td>\n",
       "      <td>35</td>\n",
       "      <td>168</td>\n",
       "      <td>43.1</td>\n",
       "      <td>2.288</td>\n",
       "      <td>33</td>\n",
       "      <td>1</td>\n",
       "    </tr>\n",
       "  </tbody>\n",
       "</table>\n",
       "</div>"
      ],
      "text/plain": [
       "   Pregnancies  Glucose  BloodPressure  SkinThickness  Insulin   BMI  \\\n",
       "0            6      148             72             35        0  33.6   \n",
       "1            1       85             66             29        0  26.6   \n",
       "2            8      183             64              0        0  23.3   \n",
       "3            1       89             66             23       94  28.1   \n",
       "4            0      137             40             35      168  43.1   \n",
       "\n",
       "   DiabetesPedigreeFunction  Age  Outcome  \n",
       "0                     0.627   50        1  \n",
       "1                     0.351   31        0  \n",
       "2                     0.672   32        1  \n",
       "3                     0.167   21        0  \n",
       "4                     2.288   33        1  "
      ]
     },
     "execution_count": 2,
     "metadata": {},
     "output_type": "execute_result"
    }
   ],
   "source": [
    "df = pd.read_csv(\"datas/diabetes.csv\")\n",
    "df.head()"
   ]
  },
  {
   "cell_type": "code",
   "execution_count": 3,
   "id": "f2ff5942-85bb-4d93-a774-c2641378f08c",
   "metadata": {},
   "outputs": [],
   "source": [
    "X = df.drop(columns='Outcome')\n",
    "y = df['Outcome']\n",
    "\n",
    "X_train = X.values\n",
    "y_train = y.values"
   ]
  },
  {
   "cell_type": "code",
   "execution_count": 4,
   "id": "e297788d-4a59-4b01-a793-7336ed3aaaf8",
   "metadata": {},
   "outputs": [
    {
     "data": {
      "text/plain": [
       "<Axes: xlabel='Outcome', ylabel='Age'>"
      ]
     },
     "execution_count": 4,
     "metadata": {},
     "output_type": "execute_result"
    },
    {
     "data": {
      "image/png": "[encoded data removed]",
      "text/plain": [
       "<Figure size 640x480 with 1 Axes>"
      ]
     },
     "metadata": {},
     "output_type": "display_data"
    }
   ],
   "source": [
    "sns.boxplot(x=df['Outcome'],y=df['Age'])"
   ]
  },
  {
   "cell_type": "markdown",
   "id": "b29ef5fb-9b84-49ee-b903-98ce8ca9638b",
   "metadata": {},
   "source": [
    "## Model"
   ]
  },
  {
   "cell_type": "code",
   "execution_count": 5,
   "id": "5033894d-6bfc-426b-9f0c-f3dad5b16ce3",
   "metadata": {},
   "outputs": [],
   "source": [
    "class LogisticRegression:\n",
    "     def __sigmoid(self,z):\n",
    "         g=1/(1+np.exp(-z))\n",
    "         return g\n",
    "     def __compute_gradient(self,X,y,w,b):\n",
    "\n",
    "         m = len(X.T)\n",
    "         pred = self.__sigmoid(np.dot(w,X) + b) #X shape must be (8,768)\n",
    "         diff = pred - y\n",
    "   \n",
    "         dj_dw = np.dot(X,diff) / m\n",
    "         dj_db = np.sum(diff) / m\n",
    "         return dj_dw,dj_db\n",
    "         \n",
    "     def fit(self,X,y,learning_rate,number_of_iterations):\n",
    "         w_in = np.zeros(X.shape[1])\n",
    "         b_in = 0.0\n",
    "         for i in range(number_of_iterations):\n",
    "             dj_dw,dj_db = self.__compute_gradient(X.T,y,w_in,b_in)\n",
    "             w_in = w_in - learning_rate * dj_dw \n",
    "             b_in = b_in - learning_rate * dj_db\n",
    "\n",
    "\n",
    "         self.W = w_in\n",
    "         self.b = b_in\n",
    "    \n",
    "     def predict( self, X ):\n",
    "        Z = 1 / ( 1 + np.exp( - ( X.dot( self.W ) + self.b ) ) )\n",
    "        Y = np.where( Z > 0.5, 1, 0 )\n",
    "        return Y\n",
    "        \n",
    "    "
   ]
  },
  {
   "cell_type": "markdown",
   "id": "1be2adf4-c2e7-41eb-8cc2-507075afdd01",
   "metadata": {},
   "source": [
    "## Get accuracy"
   ]
  },
  {
   "cell_type": "code",
   "execution_count": 6,
   "id": "f9b1bdea-318a-445e-a3a8-800646a2553f",
   "metadata": {},
   "outputs": [],
   "source": [
    "def getAccuracy(y_test,prediction):\n",
    "    n = len(y_test)\n",
    "    correct = y_test == prediction\n",
    "    return np.sum(correct)/ n\n",
    "    "
   ]
  },
  {
   "cell_type": "code",
   "execution_count": 7,
   "id": "2e30e123-a5a1-4777-a36d-60b07f0c4871",
   "metadata": {},
   "outputs": [],
   "source": [
    "from sklearn.model_selection import train_test_split\n",
    "X_train, X_test, y_train, y_test = train_test_split(X.values, y.values, test_size = 1/3, random_state = 0 )"
   ]
  },
  {
   "cell_type": "markdown",
   "id": "f10b50d9-b974-49e2-bae1-0340965b78ec",
   "metadata": {},
   "source": [
    "## Model Evaluation"
   ]
  },
  {
   "cell_type": "code",
   "execution_count": 8,
   "id": "367074b4-a9b3-453d-8526-f5f348b51442",
   "metadata": {},
   "outputs": [],
   "source": [
    "model1 = LogisticRegression()\n",
    "model1.fit(X_train,y_train,0.01,943)"
   ]
  },
  {
   "cell_type": "code",
   "execution_count": 9,
   "id": "aa9789f4-6d6c-4729-9dd9-673dee15d027",
   "metadata": {},
   "outputs": [],
   "source": [
    "prediction_1 = model1.predict(X_test)"
   ]
  },
  {
   "cell_type": "code",
   "execution_count": 10,
   "id": "9b134958-4441-4a27-b1b3-260d22df05f8",
   "metadata": {},
   "outputs": [
    {
     "name": "stdout",
     "output_type": "stream",
     "text": [
      "Test Accuracy of our own Logistic Model : 0.58203125\n"
     ]
    }
   ],
   "source": [
    "print(f\"Test Accuracy of our own Logistic Model : {getAccuracy(y_test,prediction_1)}\")"
   ]
  },
  {
   "cell_type": "markdown",
   "id": "dc116710-b6a8-44af-ae46-fd71c143f712",
   "metadata": {},
   "source": [
    "## Comparing With Sklearn Model"
   ]
  },
  {
   "cell_type": "code",
   "execution_count": 11,
   "id": "0190a0c2-6093-4871-a789-bd7c002717e0",
   "metadata": {},
   "outputs": [
    {
     "name": "stdout",
     "output_type": "stream",
     "text": [
      "Test Accuracy of sklearn Logistic Model : 0.78125\n"
     ]
    }
   ],
   "source": [
    "from sklearn.linear_model import LogisticRegression\n",
    "\n",
    "model2 = LogisticRegression(max_iter=1000)\n",
    "model2.fit( X_train, y_train)\n",
    "prediction_2 = model2.predict(X_test)\n",
    "\n",
    "print(f\"Test Accuracy of sklearn Logistic Model : {getAccuracy(y_test,prediction_2)}\")"
   ]
  },
  {
   "cell_type": "code",
   "execution_count": null,
   "id": "566d91a8-f5dc-47bd-a244-1cee2fa1821f",
   "metadata": {},
   "outputs": [],
   "source": []
  }
 ],
 "metadata": {
  "kernelspec": {
   "display_name": "Python 3 (ipykernel)",
   "language": "python",
   "name": "python3"
  },
  "language_info": {
   "codemirror_mode": {
    "name": "ipython",
    "version": 3
   },
   "file_extension": ".py",
   "mimetype": "text/x-python",
   "name": "python",
   "nbconvert_exporter": "python",
   "pygments_lexer": "ipython3",
   "version": "3.11.2"
  }
 },
 "nbformat": 4,
 "nbformat_minor": 5
}
